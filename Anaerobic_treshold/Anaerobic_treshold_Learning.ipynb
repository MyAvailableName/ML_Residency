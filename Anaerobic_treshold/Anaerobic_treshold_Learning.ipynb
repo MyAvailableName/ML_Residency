{
 "cells": [
  {
   "cell_type": "code",
   "execution_count": 10,
   "id": "e17d8ea4",
   "metadata": {},
   "outputs": [],
   "source": [
    "import pandas as pd\n",
    "import numpy as np\n",
    "from sklearn.model_selection import train_test_split\n",
    "from sklearn.tree import DecisionTreeRegressor\n",
    "from sklearn.model_selection import GridSearchCV\n",
    "from sklearn.metrics import mean_absolute_error\n",
    "from sklearn.metrics import mean_squared_error\n",
    "from sklearn.ensemble import RandomForestRegressor\n",
    "from sklearn import linear_model"
   ]
  },
  {
   "cell_type": "markdown",
   "id": "0d661be7",
   "metadata": {},
   "source": [
    "## ПАНО"
   ]
  },
  {
   "cell_type": "code",
   "execution_count": 11,
   "id": "214059b6",
   "metadata": {
    "scrolled": true
   },
   "outputs": [
    {
     "data": {
      "text/html": [
       "<div>\n",
       "<style scoped>\n",
       "    .dataframe tbody tr th:only-of-type {\n",
       "        vertical-align: middle;\n",
       "    }\n",
       "\n",
       "    .dataframe tbody tr th {\n",
       "        vertical-align: top;\n",
       "    }\n",
       "\n",
       "    .dataframe thead th {\n",
       "        text-align: right;\n",
       "    }\n",
       "</style>\n",
       "<table border=\"1\" class=\"dataframe\">\n",
       "  <thead>\n",
       "    <tr style=\"text-align: right;\">\n",
       "      <th></th>\n",
       "      <th>FileNum</th>\n",
       "      <th>AT_time</th>\n",
       "      <th>fast_phase_time</th>\n",
       "    </tr>\n",
       "  </thead>\n",
       "  <tbody>\n",
       "    <tr>\n",
       "      <th>0</th>\n",
       "      <td>0</td>\n",
       "      <td>475.0</td>\n",
       "      <td>915.0</td>\n",
       "    </tr>\n",
       "    <tr>\n",
       "      <th>1</th>\n",
       "      <td>1</td>\n",
       "      <td>585.0</td>\n",
       "      <td>1060.0</td>\n",
       "    </tr>\n",
       "    <tr>\n",
       "      <th>2</th>\n",
       "      <td>2</td>\n",
       "      <td>475.0</td>\n",
       "      <td>880.0</td>\n",
       "    </tr>\n",
       "    <tr>\n",
       "      <th>3</th>\n",
       "      <td>3</td>\n",
       "      <td>500.0</td>\n",
       "      <td>1130.0</td>\n",
       "    </tr>\n",
       "    <tr>\n",
       "      <th>4</th>\n",
       "      <td>4</td>\n",
       "      <td>620.0</td>\n",
       "      <td>1080.0</td>\n",
       "    </tr>\n",
       "    <tr>\n",
       "      <th>...</th>\n",
       "      <td>...</td>\n",
       "      <td>...</td>\n",
       "      <td>...</td>\n",
       "    </tr>\n",
       "    <tr>\n",
       "      <th>1488</th>\n",
       "      <td>1496</td>\n",
       "      <td>815.0</td>\n",
       "      <td>1145.0</td>\n",
       "    </tr>\n",
       "    <tr>\n",
       "      <th>1489</th>\n",
       "      <td>1497</td>\n",
       "      <td>830.0</td>\n",
       "      <td>1270.0</td>\n",
       "    </tr>\n",
       "    <tr>\n",
       "      <th>1490</th>\n",
       "      <td>1498</td>\n",
       "      <td>840.0</td>\n",
       "      <td>1130.0</td>\n",
       "    </tr>\n",
       "    <tr>\n",
       "      <th>1491</th>\n",
       "      <td>1499</td>\n",
       "      <td>885.0</td>\n",
       "      <td>1195.0</td>\n",
       "    </tr>\n",
       "    <tr>\n",
       "      <th>1492</th>\n",
       "      <td>1500</td>\n",
       "      <td>910.0</td>\n",
       "      <td>1240.0</td>\n",
       "    </tr>\n",
       "  </tbody>\n",
       "</table>\n",
       "<p>1493 rows × 3 columns</p>\n",
       "</div>"
      ],
      "text/plain": [
       "      FileNum  AT_time  fast_phase_time\n",
       "0           0    475.0            915.0\n",
       "1           1    585.0           1060.0\n",
       "2           2    475.0            880.0\n",
       "3           3    500.0           1130.0\n",
       "4           4    620.0           1080.0\n",
       "...       ...      ...              ...\n",
       "1488     1496    815.0           1145.0\n",
       "1489     1497    830.0           1270.0\n",
       "1490     1498    840.0           1130.0\n",
       "1491     1499    885.0           1195.0\n",
       "1492     1500    910.0           1240.0\n",
       "\n",
       "[1493 rows x 3 columns]"
      ]
     },
     "execution_count": 11,
     "metadata": {},
     "output_type": "execute_result"
    }
   ],
   "source": [
    "df_Time_AT = pd.read_csv('Time_AT_FR_LETI.csv', delimiter = ';')\n",
    "df_Time_AT = df_Time_AT.drop(['Unnamed: 0', 'Unnamed: 4'], axis=1)\n",
    "df_Time_AT"
   ]
  },
  {
   "cell_type": "markdown",
   "id": "604933ca",
   "metadata": {},
   "source": [
    "## МАССА"
   ]
  },
  {
   "cell_type": "code",
   "execution_count": 12,
   "id": "4dcdbcdb",
   "metadata": {
    "scrolled": true
   },
   "outputs": [
    {
     "data": {
      "text/html": [
       "<div>\n",
       "<style scoped>\n",
       "    .dataframe tbody tr th:only-of-type {\n",
       "        vertical-align: middle;\n",
       "    }\n",
       "\n",
       "    .dataframe tbody tr th {\n",
       "        vertical-align: top;\n",
       "    }\n",
       "\n",
       "    .dataframe thead th {\n",
       "        text-align: right;\n",
       "    }\n",
       "</style>\n",
       "<table border=\"1\" class=\"dataframe\">\n",
       "  <thead>\n",
       "    <tr style=\"text-align: right;\">\n",
       "      <th></th>\n",
       "      <th>massa</th>\n",
       "      <th>file_id</th>\n",
       "    </tr>\n",
       "  </thead>\n",
       "  <tbody>\n",
       "    <tr>\n",
       "      <th>0</th>\n",
       "      <td>105.0</td>\n",
       "      <td>0</td>\n",
       "    </tr>\n",
       "    <tr>\n",
       "      <th>1</th>\n",
       "      <td>100.0</td>\n",
       "      <td>1</td>\n",
       "    </tr>\n",
       "    <tr>\n",
       "      <th>2</th>\n",
       "      <td>107.0</td>\n",
       "      <td>2</td>\n",
       "    </tr>\n",
       "    <tr>\n",
       "      <th>3</th>\n",
       "      <td>102.6</td>\n",
       "      <td>3</td>\n",
       "    </tr>\n",
       "    <tr>\n",
       "      <th>4</th>\n",
       "      <td>102.4</td>\n",
       "      <td>4</td>\n",
       "    </tr>\n",
       "  </tbody>\n",
       "</table>\n",
       "</div>"
      ],
      "text/plain": [
       "   massa  file_id\n",
       "0  105.0        0\n",
       "1  100.0        1\n",
       "2  107.0        2\n",
       "3  102.6        3\n",
       "4  102.4        4"
      ]
     },
     "execution_count": 12,
     "metadata": {},
     "output_type": "execute_result"
    }
   ],
   "source": [
    "df_massa = pd.read_csv('D:/anaerobic_treashold/Massa.csv', delimiter = ';')\n",
    "df_massa = df_massa.drop(['Unnamed: 0.1', 'Unnamed: 0'], axis=1)\n",
    "df_massa.head()"
   ]
  },
  {
   "cell_type": "markdown",
   "id": "f9bf6a24",
   "metadata": {},
   "source": [
    "## Все вместе в покое"
   ]
  },
  {
   "cell_type": "code",
   "execution_count": 13,
   "id": "ebefa797",
   "metadata": {
    "scrolled": true
   },
   "outputs": [
    {
     "data": {
      "text/html": [
       "<div>\n",
       "<style scoped>\n",
       "    .dataframe tbody tr th:only-of-type {\n",
       "        vertical-align: middle;\n",
       "    }\n",
       "\n",
       "    .dataframe tbody tr th {\n",
       "        vertical-align: top;\n",
       "    }\n",
       "\n",
       "    .dataframe thead th {\n",
       "        text-align: right;\n",
       "    }\n",
       "</style>\n",
       "<table border=\"1\" class=\"dataframe\">\n",
       "  <thead>\n",
       "    <tr style=\"text-align: right;\">\n",
       "      <th></th>\n",
       "      <th>HR_rest</th>\n",
       "      <th>V'E_rest</th>\n",
       "      <th>V'O2_rest</th>\n",
       "      <th>V'CO2_rest</th>\n",
       "      <th>RER_rest</th>\n",
       "      <th>O2/HR_rest</th>\n",
       "      <th>EqO2_rest</th>\n",
       "      <th>EqCO2_rest</th>\n",
       "      <th>PETO2_rest</th>\n",
       "      <th>PETCO2_rest</th>\n",
       "      <th>BF_rest</th>\n",
       "      <th>massa</th>\n",
       "      <th>AT_time</th>\n",
       "    </tr>\n",
       "  </thead>\n",
       "  <tbody>\n",
       "    <tr>\n",
       "      <th>0</th>\n",
       "      <td>88.79</td>\n",
       "      <td>16.00</td>\n",
       "      <td>544.79</td>\n",
       "      <td>443.64</td>\n",
       "      <td>0.81</td>\n",
       "      <td>6.17</td>\n",
       "      <td>27.69</td>\n",
       "      <td>34.24</td>\n",
       "      <td>14.11</td>\n",
       "      <td>4.89</td>\n",
       "      <td>17.06</td>\n",
       "      <td>105.0</td>\n",
       "      <td>475.0</td>\n",
       "    </tr>\n",
       "    <tr>\n",
       "      <th>1</th>\n",
       "      <td>88.65</td>\n",
       "      <td>18.03</td>\n",
       "      <td>551.53</td>\n",
       "      <td>471.79</td>\n",
       "      <td>0.86</td>\n",
       "      <td>6.23</td>\n",
       "      <td>29.53</td>\n",
       "      <td>34.01</td>\n",
       "      <td>14.71</td>\n",
       "      <td>4.58</td>\n",
       "      <td>21.29</td>\n",
       "      <td>100.0</td>\n",
       "      <td>585.0</td>\n",
       "    </tr>\n",
       "    <tr>\n",
       "      <th>2</th>\n",
       "      <td>103.50</td>\n",
       "      <td>19.06</td>\n",
       "      <td>759.97</td>\n",
       "      <td>521.97</td>\n",
       "      <td>0.69</td>\n",
       "      <td>7.34</td>\n",
       "      <td>23.17</td>\n",
       "      <td>33.49</td>\n",
       "      <td>13.69</td>\n",
       "      <td>4.76</td>\n",
       "      <td>19.19</td>\n",
       "      <td>107.0</td>\n",
       "      <td>475.0</td>\n",
       "    </tr>\n",
       "    <tr>\n",
       "      <th>3</th>\n",
       "      <td>88.57</td>\n",
       "      <td>17.43</td>\n",
       "      <td>631.17</td>\n",
       "      <td>543.03</td>\n",
       "      <td>0.87</td>\n",
       "      <td>7.03</td>\n",
       "      <td>25.68</td>\n",
       "      <td>29.41</td>\n",
       "      <td>14.01</td>\n",
       "      <td>5.08</td>\n",
       "      <td>16.54</td>\n",
       "      <td>102.6</td>\n",
       "      <td>500.0</td>\n",
       "    </tr>\n",
       "    <tr>\n",
       "      <th>4</th>\n",
       "      <td>84.41</td>\n",
       "      <td>15.82</td>\n",
       "      <td>574.29</td>\n",
       "      <td>496.03</td>\n",
       "      <td>0.86</td>\n",
       "      <td>6.84</td>\n",
       "      <td>24.79</td>\n",
       "      <td>28.70</td>\n",
       "      <td>13.72</td>\n",
       "      <td>5.26</td>\n",
       "      <td>15.38</td>\n",
       "      <td>102.4</td>\n",
       "      <td>620.0</td>\n",
       "    </tr>\n",
       "    <tr>\n",
       "      <th>...</th>\n",
       "      <td>...</td>\n",
       "      <td>...</td>\n",
       "      <td>...</td>\n",
       "      <td>...</td>\n",
       "      <td>...</td>\n",
       "      <td>...</td>\n",
       "      <td>...</td>\n",
       "      <td>...</td>\n",
       "      <td>...</td>\n",
       "      <td>...</td>\n",
       "      <td>...</td>\n",
       "      <td>...</td>\n",
       "      <td>...</td>\n",
       "    </tr>\n",
       "    <tr>\n",
       "      <th>1488</th>\n",
       "      <td>95.47</td>\n",
       "      <td>15.44</td>\n",
       "      <td>472.28</td>\n",
       "      <td>343.22</td>\n",
       "      <td>0.72</td>\n",
       "      <td>4.88</td>\n",
       "      <td>30.55</td>\n",
       "      <td>42.16</td>\n",
       "      <td>15.12</td>\n",
       "      <td>3.67</td>\n",
       "      <td>17.34</td>\n",
       "      <td>92.0</td>\n",
       "      <td>815.0</td>\n",
       "    </tr>\n",
       "    <tr>\n",
       "      <th>1489</th>\n",
       "      <td>74.32</td>\n",
       "      <td>11.00</td>\n",
       "      <td>363.41</td>\n",
       "      <td>276.29</td>\n",
       "      <td>0.77</td>\n",
       "      <td>4.81</td>\n",
       "      <td>24.42</td>\n",
       "      <td>31.74</td>\n",
       "      <td>14.87</td>\n",
       "      <td>4.17</td>\n",
       "      <td>19.24</td>\n",
       "      <td>69.0</td>\n",
       "      <td>830.0</td>\n",
       "    </tr>\n",
       "    <tr>\n",
       "      <th>1490</th>\n",
       "      <td>68.79</td>\n",
       "      <td>11.21</td>\n",
       "      <td>398.42</td>\n",
       "      <td>303.36</td>\n",
       "      <td>0.77</td>\n",
       "      <td>5.73</td>\n",
       "      <td>25.02</td>\n",
       "      <td>32.32</td>\n",
       "      <td>14.82</td>\n",
       "      <td>4.29</td>\n",
       "      <td>14.39</td>\n",
       "      <td>68.0</td>\n",
       "      <td>840.0</td>\n",
       "    </tr>\n",
       "    <tr>\n",
       "      <th>1491</th>\n",
       "      <td>73.91</td>\n",
       "      <td>13.35</td>\n",
       "      <td>437.82</td>\n",
       "      <td>333.88</td>\n",
       "      <td>0.78</td>\n",
       "      <td>5.91</td>\n",
       "      <td>26.13</td>\n",
       "      <td>33.26</td>\n",
       "      <td>14.47</td>\n",
       "      <td>4.11</td>\n",
       "      <td>19.41</td>\n",
       "      <td>68.0</td>\n",
       "      <td>885.0</td>\n",
       "    </tr>\n",
       "    <tr>\n",
       "      <th>1492</th>\n",
       "      <td>70.21</td>\n",
       "      <td>13.79</td>\n",
       "      <td>442.06</td>\n",
       "      <td>356.21</td>\n",
       "      <td>0.82</td>\n",
       "      <td>6.25</td>\n",
       "      <td>27.12</td>\n",
       "      <td>33.22</td>\n",
       "      <td>14.68</td>\n",
       "      <td>4.33</td>\n",
       "      <td>18.74</td>\n",
       "      <td>69.0</td>\n",
       "      <td>910.0</td>\n",
       "    </tr>\n",
       "  </tbody>\n",
       "</table>\n",
       "<p>1493 rows × 13 columns</p>\n",
       "</div>"
      ],
      "text/plain": [
       "      HR_rest  V'E_rest  V'O2_rest  V'CO2_rest  RER_rest  O2/HR_rest  \\\n",
       "0       88.79     16.00     544.79      443.64      0.81        6.17   \n",
       "1       88.65     18.03     551.53      471.79      0.86        6.23   \n",
       "2      103.50     19.06     759.97      521.97      0.69        7.34   \n",
       "3       88.57     17.43     631.17      543.03      0.87        7.03   \n",
       "4       84.41     15.82     574.29      496.03      0.86        6.84   \n",
       "...       ...       ...        ...         ...       ...         ...   \n",
       "1488    95.47     15.44     472.28      343.22      0.72        4.88   \n",
       "1489    74.32     11.00     363.41      276.29      0.77        4.81   \n",
       "1490    68.79     11.21     398.42      303.36      0.77        5.73   \n",
       "1491    73.91     13.35     437.82      333.88      0.78        5.91   \n",
       "1492    70.21     13.79     442.06      356.21      0.82        6.25   \n",
       "\n",
       "      EqO2_rest  EqCO2_rest  PETO2_rest  PETCO2_rest  BF_rest  massa  AT_time  \n",
       "0         27.69       34.24       14.11         4.89    17.06  105.0    475.0  \n",
       "1         29.53       34.01       14.71         4.58    21.29  100.0    585.0  \n",
       "2         23.17       33.49       13.69         4.76    19.19  107.0    475.0  \n",
       "3         25.68       29.41       14.01         5.08    16.54  102.6    500.0  \n",
       "4         24.79       28.70       13.72         5.26    15.38  102.4    620.0  \n",
       "...         ...         ...         ...          ...      ...    ...      ...  \n",
       "1488      30.55       42.16       15.12         3.67    17.34   92.0    815.0  \n",
       "1489      24.42       31.74       14.87         4.17    19.24   69.0    830.0  \n",
       "1490      25.02       32.32       14.82         4.29    14.39   68.0    840.0  \n",
       "1491      26.13       33.26       14.47         4.11    19.41   68.0    885.0  \n",
       "1492      27.12       33.22       14.68         4.33    18.74   69.0    910.0  \n",
       "\n",
       "[1493 rows x 13 columns]"
      ]
     },
     "execution_count": 13,
     "metadata": {},
     "output_type": "execute_result"
    }
   ],
   "source": [
    "df_Values_rest = pd.read_csv('D:/anaerobic_treashold/Values_rest.csv')\n",
    "df_all = df_Values_rest.drop(['file_id'], axis = 1)\n",
    "massa_column= df_massa['massa']\n",
    "df_Time_AT['massa'] = massa_column\n",
    "df_all['massa'] = massa_column\n",
    "AT_time_column= df_Time_AT['AT_time']\n",
    "df_all['AT_time'] = AT_time_column\n",
    "df_all"
   ]
  },
  {
   "cell_type": "markdown",
   "id": "4e5da2bf",
   "metadata": {},
   "source": [
    "## Обучаем модель (дерево решений) "
   ]
  },
  {
   "cell_type": "code",
   "execution_count": 14,
   "id": "be3f325e",
   "metadata": {},
   "outputs": [
    {
     "data": {
      "text/plain": [
       "Index(['HR_rest', 'V'E_rest', 'V'O2_rest', 'V'CO2_rest', 'RER_rest',\n",
       "       'O2/HR_rest', 'EqO2_rest', 'EqCO2_rest', 'PETO2_rest', 'PETCO2_rest',\n",
       "       'BF_rest', 'massa', 'AT_time'],\n",
       "      dtype='object')"
      ]
     },
     "execution_count": 14,
     "metadata": {},
     "output_type": "execute_result"
    }
   ],
   "source": [
    "df_all = df_all.dropna(axis=0)\n",
    "df_all.columns"
   ]
  },
  {
   "cell_type": "markdown",
   "id": "c74ad066",
   "metadata": {},
   "source": [
    "Делим на тренировочный и тестовый наборы"
   ]
  },
  {
   "cell_type": "code",
   "execution_count": 15,
   "id": "aa43f7b4",
   "metadata": {},
   "outputs": [],
   "source": [
    "feature_columns = ['HR_rest', \"V'E_rest\", \"V'O2_rest\", \"V'CO2_rest\", 'RER_rest',\n",
    "       'O2/HR_rest', 'EqO2_rest', 'EqCO2_rest', 'PETO2_rest', 'PETCO2_rest',\n",
    "       'BF_rest', 'massa']\n",
    "X = df_all[feature_columns]\n",
    "y = df_all['AT_time']\n",
    "train_X, val_X, train_y, val_y = train_test_split(X, y, test_size=0.33, random_state=42)\n"
   ]
  },
  {
   "cell_type": "code",
   "execution_count": 16,
   "id": "8ffc9291",
   "metadata": {},
   "outputs": [
    {
     "data": {
      "text/html": [
       "<style>#sk-container-id-1 {color: black;}#sk-container-id-1 pre{padding: 0;}#sk-container-id-1 div.sk-toggleable {background-color: white;}#sk-container-id-1 label.sk-toggleable__label {cursor: pointer;display: block;width: 100%;margin-bottom: 0;padding: 0.3em;box-sizing: border-box;text-align: center;}#sk-container-id-1 label.sk-toggleable__label-arrow:before {content: \"▸\";float: left;margin-right: 0.25em;color: #696969;}#sk-container-id-1 label.sk-toggleable__label-arrow:hover:before {color: black;}#sk-container-id-1 div.sk-estimator:hover label.sk-toggleable__label-arrow:before {color: black;}#sk-container-id-1 div.sk-toggleable__content {max-height: 0;max-width: 0;overflow: hidden;text-align: left;background-color: #f0f8ff;}#sk-container-id-1 div.sk-toggleable__content pre {margin: 0.2em;color: black;border-radius: 0.25em;background-color: #f0f8ff;}#sk-container-id-1 input.sk-toggleable__control:checked~div.sk-toggleable__content {max-height: 200px;max-width: 100%;overflow: auto;}#sk-container-id-1 input.sk-toggleable__control:checked~label.sk-toggleable__label-arrow:before {content: \"▾\";}#sk-container-id-1 div.sk-estimator input.sk-toggleable__control:checked~label.sk-toggleable__label {background-color: #d4ebff;}#sk-container-id-1 div.sk-label input.sk-toggleable__control:checked~label.sk-toggleable__label {background-color: #d4ebff;}#sk-container-id-1 input.sk-hidden--visually {border: 0;clip: rect(1px 1px 1px 1px);clip: rect(1px, 1px, 1px, 1px);height: 1px;margin: -1px;overflow: hidden;padding: 0;position: absolute;width: 1px;}#sk-container-id-1 div.sk-estimator {font-family: monospace;background-color: #f0f8ff;border: 1px dotted black;border-radius: 0.25em;box-sizing: border-box;margin-bottom: 0.5em;}#sk-container-id-1 div.sk-estimator:hover {background-color: #d4ebff;}#sk-container-id-1 div.sk-parallel-item::after {content: \"\";width: 100%;border-bottom: 1px solid gray;flex-grow: 1;}#sk-container-id-1 div.sk-label:hover label.sk-toggleable__label {background-color: #d4ebff;}#sk-container-id-1 div.sk-serial::before {content: \"\";position: absolute;border-left: 1px solid gray;box-sizing: border-box;top: 0;bottom: 0;left: 50%;z-index: 0;}#sk-container-id-1 div.sk-serial {display: flex;flex-direction: column;align-items: center;background-color: white;padding-right: 0.2em;padding-left: 0.2em;position: relative;}#sk-container-id-1 div.sk-item {position: relative;z-index: 1;}#sk-container-id-1 div.sk-parallel {display: flex;align-items: stretch;justify-content: center;background-color: white;position: relative;}#sk-container-id-1 div.sk-item::before, #sk-container-id-1 div.sk-parallel-item::before {content: \"\";position: absolute;border-left: 1px solid gray;box-sizing: border-box;top: 0;bottom: 0;left: 50%;z-index: -1;}#sk-container-id-1 div.sk-parallel-item {display: flex;flex-direction: column;z-index: 1;position: relative;background-color: white;}#sk-container-id-1 div.sk-parallel-item:first-child::after {align-self: flex-end;width: 50%;}#sk-container-id-1 div.sk-parallel-item:last-child::after {align-self: flex-start;width: 50%;}#sk-container-id-1 div.sk-parallel-item:only-child::after {width: 0;}#sk-container-id-1 div.sk-dashed-wrapped {border: 1px dashed gray;margin: 0 0.4em 0.5em 0.4em;box-sizing: border-box;padding-bottom: 0.4em;background-color: white;}#sk-container-id-1 div.sk-label label {font-family: monospace;font-weight: bold;display: inline-block;line-height: 1.2em;}#sk-container-id-1 div.sk-label-container {text-align: center;}#sk-container-id-1 div.sk-container {/* jupyter's `normalize.less` sets `[hidden] { display: none; }` but bootstrap.min.css set `[hidden] { display: none !important; }` so we also need the `!important` here to be able to override the default hidden behavior on the sphinx rendered scikit-learn.org. See: https://github.com/scikit-learn/scikit-learn/issues/21755 */display: inline-block !important;position: relative;}#sk-container-id-1 div.sk-text-repr-fallback {display: none;}</style><div id=\"sk-container-id-1\" class=\"sk-top-container\"><div class=\"sk-text-repr-fallback\"><pre>DecisionTreeRegressor(random_state=42)</pre><b>In a Jupyter environment, please rerun this cell to show the HTML representation or trust the notebook. <br />On GitHub, the HTML representation is unable to render, please try loading this page with nbviewer.org.</b></div><div class=\"sk-container\" hidden><div class=\"sk-item\"><div class=\"sk-estimator sk-toggleable\"><input class=\"sk-toggleable__control sk-hidden--visually\" id=\"sk-estimator-id-1\" type=\"checkbox\" checked><label for=\"sk-estimator-id-1\" class=\"sk-toggleable__label sk-toggleable__label-arrow\">DecisionTreeRegressor</label><div class=\"sk-toggleable__content\"><pre>DecisionTreeRegressor(random_state=42)</pre></div></div></div></div></div>"
      ],
      "text/plain": [
       "DecisionTreeRegressor(random_state=42)"
      ]
     },
     "execution_count": 16,
     "metadata": {},
     "output_type": "execute_result"
    }
   ],
   "source": [
    "AT_time_model = DecisionTreeRegressor(random_state=42)\n",
    "\n",
    "# Fit the model\n",
    "AT_time_model.fit(train_X, train_y)"
   ]
  },
  {
   "cell_type": "code",
   "execution_count": 36,
   "id": "841f4b78",
   "metadata": {},
   "outputs": [
    {
     "name": "stdout",
     "output_type": "stream",
     "text": [
      "Making predictions for the following 5 AT:\n",
      "950     600.0\n",
      "901     840.0\n",
      "1339    465.0\n",
      "984     790.0\n",
      "959     635.0\n",
      "Name: AT_time, dtype: float64\n",
      "The predictions are\n",
      "[675. 600. 585. 720. 730.]\n"
     ]
    }
   ],
   "source": [
    "print(\"Making predictions for the following 5 AT:\")\n",
    "print(val_y.head())\n",
    "print(\"The predictions are\")\n",
    "val_predictions = AT_time_model.predict(val_X)\n",
    "print(AT_time_model.predict(val_X.head()))"
   ]
  },
  {
   "cell_type": "markdown",
   "id": "b20da2ce",
   "metadata": {},
   "source": [
    "**Найдем оптимальное количество листьев**"
   ]
  },
  {
   "cell_type": "code",
   "execution_count": 24,
   "id": "8263deb1",
   "metadata": {},
   "outputs": [
    {
     "data": {
      "text/plain": [
       "{'max_depth': 3}"
      ]
     },
     "execution_count": 24,
     "metadata": {},
     "output_type": "execute_result"
    }
   ],
   "source": [
    "clf = DecisionTreeRegressor(random_state=42)\n",
    "parametrs = { 'max_depth': range (1,20,2)}\n",
    "grid = GridSearchCV(clf, parametrs)\n",
    "grid.fit(train_X, train_y)\n",
    "grid.best_params_\n"
   ]
  },
  {
   "cell_type": "markdown",
   "id": "54010782",
   "metadata": {},
   "source": [
    "**Переобучим** для лучшего значения МАЕ"
   ]
  },
  {
   "cell_type": "code",
   "execution_count": 25,
   "id": "11eac002",
   "metadata": {},
   "outputs": [
    {
     "name": "stdout",
     "output_type": "stream",
     "text": [
      "Making predictions for the following 5 AT:\n",
      "0       475.0\n",
      "1       585.0\n",
      "2       475.0\n",
      "3       500.0\n",
      "4       620.0\n",
      "        ...  \n",
      "1488    815.0\n",
      "1489    830.0\n",
      "1490    840.0\n",
      "1491    885.0\n",
      "1492    910.0\n",
      "Name: AT_time, Length: 1492, dtype: float64\n",
      "The predictions are\n",
      "[661.20847652 661.20847652 661.20847652 ... 897.93478261 661.20847652\n",
      " 897.93478261]\n"
     ]
    }
   ],
   "source": [
    "final_AT_time_model = DecisionTreeRegressor(max_leaf_nodes = grid.best_params_.get('max_depth') ,random_state=42)\n",
    "\n",
    "# Fit the model\n",
    "final_AT_time_model.fit(train_X, train_y)\n",
    "\n",
    "print(\"Making predictions for the following 5 AT:\")\n",
    "print(y)\n",
    "print(\"The predictions are\")\n",
    "#val_predictions = AT_time_model.predict(val_X)\n",
    "print(final_AT_time_model.predict(X))"
   ]
  },
  {
   "cell_type": "code",
   "execution_count": 26,
   "id": "a6aeb407",
   "metadata": {},
   "outputs": [
    {
     "data": {
      "text/plain": [
       "0.08860362326107718"
      ]
     },
     "execution_count": 26,
     "metadata": {},
     "output_type": "execute_result"
    }
   ],
   "source": [
    "final_AT_time_model.score(val_X, val_y)"
   ]
  },
  {
   "cell_type": "markdown",
   "id": "33242bbd",
   "metadata": {},
   "source": [
    "**Графики**"
   ]
  },
  {
   "cell_type": "code",
   "execution_count": 62,
   "id": "18fded66",
   "metadata": {},
   "outputs": [
    {
     "ename": "SyntaxError",
     "evalue": "unterminated string literal (detected at line 1) (530957630.py, line 1)",
     "output_type": "error",
     "traceback": [
      "\u001b[1;36m  Cell \u001b[1;32mIn[62], line 1\u001b[1;36m\u001b[0m\n\u001b[1;33m    final_AT_time_model.plot(x = val_X, y = val_y', kind = 'scatter')\u001b[0m\n\u001b[1;37m                                                                   ^\u001b[0m\n\u001b[1;31mSyntaxError\u001b[0m\u001b[1;31m:\u001b[0m unterminated string literal (detected at line 1)\n"
     ]
    }
   ],
   "source": [
    "#final_AT_time_model.plot(x = val_X, y = val_y', kind = 'scatter')\n",
    "#plt.scatter(val_X, val_y, color=\"black\")\n",
    "#plt.plot(val_X, val_predictions, color=\"blue\")\n"
   ]
  },
  {
   "cell_type": "markdown",
   "id": "b650e0bf",
   "metadata": {},
   "source": [
    "**Оценки**"
   ]
  },
  {
   "cell_type": "code",
   "execution_count": 40,
   "id": "2741b1f9",
   "metadata": {},
   "outputs": [
    {
     "name": "stdout",
     "output_type": "stream",
     "text": [
      "Validation MAE for Random Forest Model: 129.8580121703854\n",
      "Validation MSE for Random Forest Model: 27921.501014198784\n",
      "Validation RMSE for Random Forest Model: 167.09728009216303\n"
     ]
    }
   ],
   "source": [
    "val_mae = mean_absolute_error(val_y, val_predictions)\n",
    "val_mse = mean_squared_error(val_y, val_predictions)\n",
    "val_rmse = mean_squared_error(val_y, val_predictions, squared = False)\n",
    "\n",
    "print(\"Validation MAE for Random Forest Model: {}\".format(val_mae))\n",
    "print(\"Validation MSE for Random Forest Model: {}\".format(val_mse))\n",
    "print(\"Validation RMSE for Random Forest Model: {}\".format(val_rmse))\n"
   ]
  },
  {
   "cell_type": "markdown",
   "id": "c6397c78",
   "metadata": {},
   "source": [
    "## Обучаем модель (random forest) "
   ]
  },
  {
   "cell_type": "code",
   "execution_count": 52,
   "id": "d61814ec",
   "metadata": {},
   "outputs": [
    {
     "name": "stdout",
     "output_type": "stream",
     "text": [
      "Validation MAE for Random Forest Model: 93.07139959432048\n",
      "Validation MSE for Random Forest Model: 14498.281622718052\n",
      "Validation RMSE for Random Forest Model: 120.4088104032178\n"
     ]
    }
   ],
   "source": [
    "\n",
    "rf_model = RandomForestRegressor(random_state = 42)\n",
    "\n",
    "# fit your model\n",
    "rf_model.fit(train_X, train_y)\n",
    "preds = rf_model.predict(val_X)\n",
    "\n",
    "# Calculate the mean absolute error of your Random Forest model on the validation data\n",
    "rf_val_mae = mean_absolute_error(val_y, preds)\n",
    "rf_val_mse = mean_squared_error(val_y, preds)\n",
    "rf_val_rmse = mean_squared_error(val_y, preds, squared = False)\n",
    "\n",
    "print(\"Validation MAE for Random Forest Model: {}\".format(rf_val_mae))\n",
    "print(\"Validation MSE for Random Forest Model: {}\".format(rf_val_mse))\n",
    "print(\"Validation RMSE for Random Forest Model: {}\".format(rf_val_rmse))"
   ]
  },
  {
   "cell_type": "code",
   "execution_count": 43,
   "id": "f4c445ae",
   "metadata": {},
   "outputs": [
    {
     "data": {
      "text/plain": [
       "0.2604996751337716"
      ]
     },
     "execution_count": 43,
     "metadata": {},
     "output_type": "execute_result"
    }
   ],
   "source": [
    "rf_model.score(val_X, val_y)"
   ]
  },
  {
   "cell_type": "markdown",
   "id": "fb1a7e4a",
   "metadata": {},
   "source": [
    "## Обучаем модель (линейная регрессия) "
   ]
  },
  {
   "cell_type": "code",
   "execution_count": 21,
   "id": "36645ad0",
   "metadata": {},
   "outputs": [],
   "source": [
    "reg = linear_model.LinearRegression()"
   ]
  },
  {
   "cell_type": "code",
   "execution_count": 44,
   "id": "f2df92bd",
   "metadata": {},
   "outputs": [
    {
     "data": {
      "text/html": [
       "<style>#sk-container-id-6 {color: black;}#sk-container-id-6 pre{padding: 0;}#sk-container-id-6 div.sk-toggleable {background-color: white;}#sk-container-id-6 label.sk-toggleable__label {cursor: pointer;display: block;width: 100%;margin-bottom: 0;padding: 0.3em;box-sizing: border-box;text-align: center;}#sk-container-id-6 label.sk-toggleable__label-arrow:before {content: \"▸\";float: left;margin-right: 0.25em;color: #696969;}#sk-container-id-6 label.sk-toggleable__label-arrow:hover:before {color: black;}#sk-container-id-6 div.sk-estimator:hover label.sk-toggleable__label-arrow:before {color: black;}#sk-container-id-6 div.sk-toggleable__content {max-height: 0;max-width: 0;overflow: hidden;text-align: left;background-color: #f0f8ff;}#sk-container-id-6 div.sk-toggleable__content pre {margin: 0.2em;color: black;border-radius: 0.25em;background-color: #f0f8ff;}#sk-container-id-6 input.sk-toggleable__control:checked~div.sk-toggleable__content {max-height: 200px;max-width: 100%;overflow: auto;}#sk-container-id-6 input.sk-toggleable__control:checked~label.sk-toggleable__label-arrow:before {content: \"▾\";}#sk-container-id-6 div.sk-estimator input.sk-toggleable__control:checked~label.sk-toggleable__label {background-color: #d4ebff;}#sk-container-id-6 div.sk-label input.sk-toggleable__control:checked~label.sk-toggleable__label {background-color: #d4ebff;}#sk-container-id-6 input.sk-hidden--visually {border: 0;clip: rect(1px 1px 1px 1px);clip: rect(1px, 1px, 1px, 1px);height: 1px;margin: -1px;overflow: hidden;padding: 0;position: absolute;width: 1px;}#sk-container-id-6 div.sk-estimator {font-family: monospace;background-color: #f0f8ff;border: 1px dotted black;border-radius: 0.25em;box-sizing: border-box;margin-bottom: 0.5em;}#sk-container-id-6 div.sk-estimator:hover {background-color: #d4ebff;}#sk-container-id-6 div.sk-parallel-item::after {content: \"\";width: 100%;border-bottom: 1px solid gray;flex-grow: 1;}#sk-container-id-6 div.sk-label:hover label.sk-toggleable__label {background-color: #d4ebff;}#sk-container-id-6 div.sk-serial::before {content: \"\";position: absolute;border-left: 1px solid gray;box-sizing: border-box;top: 0;bottom: 0;left: 50%;z-index: 0;}#sk-container-id-6 div.sk-serial {display: flex;flex-direction: column;align-items: center;background-color: white;padding-right: 0.2em;padding-left: 0.2em;position: relative;}#sk-container-id-6 div.sk-item {position: relative;z-index: 1;}#sk-container-id-6 div.sk-parallel {display: flex;align-items: stretch;justify-content: center;background-color: white;position: relative;}#sk-container-id-6 div.sk-item::before, #sk-container-id-6 div.sk-parallel-item::before {content: \"\";position: absolute;border-left: 1px solid gray;box-sizing: border-box;top: 0;bottom: 0;left: 50%;z-index: -1;}#sk-container-id-6 div.sk-parallel-item {display: flex;flex-direction: column;z-index: 1;position: relative;background-color: white;}#sk-container-id-6 div.sk-parallel-item:first-child::after {align-self: flex-end;width: 50%;}#sk-container-id-6 div.sk-parallel-item:last-child::after {align-self: flex-start;width: 50%;}#sk-container-id-6 div.sk-parallel-item:only-child::after {width: 0;}#sk-container-id-6 div.sk-dashed-wrapped {border: 1px dashed gray;margin: 0 0.4em 0.5em 0.4em;box-sizing: border-box;padding-bottom: 0.4em;background-color: white;}#sk-container-id-6 div.sk-label label {font-family: monospace;font-weight: bold;display: inline-block;line-height: 1.2em;}#sk-container-id-6 div.sk-label-container {text-align: center;}#sk-container-id-6 div.sk-container {/* jupyter's `normalize.less` sets `[hidden] { display: none; }` but bootstrap.min.css set `[hidden] { display: none !important; }` so we also need the `!important` here to be able to override the default hidden behavior on the sphinx rendered scikit-learn.org. See: https://github.com/scikit-learn/scikit-learn/issues/21755 */display: inline-block !important;position: relative;}#sk-container-id-6 div.sk-text-repr-fallback {display: none;}</style><div id=\"sk-container-id-6\" class=\"sk-top-container\"><div class=\"sk-text-repr-fallback\"><pre>LinearRegression()</pre><b>In a Jupyter environment, please rerun this cell to show the HTML representation or trust the notebook. <br />On GitHub, the HTML representation is unable to render, please try loading this page with nbviewer.org.</b></div><div class=\"sk-container\" hidden><div class=\"sk-item\"><div class=\"sk-estimator sk-toggleable\"><input class=\"sk-toggleable__control sk-hidden--visually\" id=\"sk-estimator-id-6\" type=\"checkbox\" checked><label for=\"sk-estimator-id-6\" class=\"sk-toggleable__label sk-toggleable__label-arrow\">LinearRegression</label><div class=\"sk-toggleable__content\"><pre>LinearRegression()</pre></div></div></div></div></div>"
      ],
      "text/plain": [
       "LinearRegression()"
      ]
     },
     "execution_count": 44,
     "metadata": {},
     "output_type": "execute_result"
    }
   ],
   "source": [
    "reg.fit(train_X, train_y)"
   ]
  },
  {
   "cell_type": "code",
   "execution_count": 53,
   "id": "8546e34e",
   "metadata": {},
   "outputs": [],
   "source": [
    "reg_y_pred = reg.predict(val_X)"
   ]
  },
  {
   "cell_type": "code",
   "execution_count": 45,
   "id": "c07c32e5",
   "metadata": {},
   "outputs": [
    {
     "data": {
      "text/plain": [
       "array([-2.05908221e+00, -9.45011059e+00,  2.99650569e-01, -1.23975561e-01,\n",
       "       -8.60571859e+02,  2.57403457e+01,  2.50172058e+01, -1.83287097e+01,\n",
       "        2.29366144e+01,  4.17473483e+01,  3.51651623e+00, -4.61747805e+00])"
      ]
     },
     "execution_count": 45,
     "metadata": {},
     "output_type": "execute_result"
    }
   ],
   "source": [
    "reg.coef_"
   ]
  },
  {
   "cell_type": "code",
   "execution_count": 46,
   "id": "0980136c",
   "metadata": {},
   "outputs": [
    {
     "data": {
      "text/plain": [
       "1138.1772759550045"
      ]
     },
     "execution_count": 46,
     "metadata": {},
     "output_type": "execute_result"
    }
   ],
   "source": [
    "reg.intercept_"
   ]
  },
  {
   "cell_type": "markdown",
   "id": "0c9e0861",
   "metadata": {},
   "source": [
    "**Оценки**"
   ]
  },
  {
   "cell_type": "code",
   "execution_count": 54,
   "id": "c340be9b",
   "metadata": {},
   "outputs": [
    {
     "name": "stdout",
     "output_type": "stream",
     "text": [
      "Validation MAE for Random Forest Model: 97.81556678193724\n",
      "Validation MSE for Random Forest Model: 15777.890408993244\n",
      "Validation RMSE for Random Forest Model: 125.61007288029589\n"
     ]
    }
   ],
   "source": [
    "reg_val_mae = mean_absolute_error(val_y, reg_y_pred)\n",
    "reg_val_mse = mean_squared_error(val_y, reg_y_pred)\n",
    "reg_val_rmse = mean_squared_error(val_y, reg_y_pred, squared = False)\n",
    "\n",
    "print(\"Validation MAE for Random Forest Model: {}\".format(reg_val_mae))\n",
    "print(\"Validation MSE for Random Forest Model: {}\".format(reg_val_mse))\n",
    "print(\"Validation RMSE for Random Forest Model: {}\".format(reg_val_rmse))\n"
   ]
  },
  {
   "cell_type": "code",
   "execution_count": 47,
   "id": "7ab030a6",
   "metadata": {},
   "outputs": [
    {
     "data": {
      "text/plain": [
       "0.19523186355605837"
      ]
     },
     "execution_count": 47,
     "metadata": {},
     "output_type": "execute_result"
    }
   ],
   "source": [
    "reg.score(val_X, val_y)"
   ]
  },
  {
   "cell_type": "code",
   "execution_count": null,
   "id": "f3951c6f",
   "metadata": {},
   "outputs": [],
   "source": []
  }
 ],
 "metadata": {
  "kernelspec": {
   "display_name": "Python 3 (ipykernel)",
   "language": "python",
   "name": "python3"
  },
  "language_info": {
   "codemirror_mode": {
    "name": "ipython",
    "version": 3
   },
   "file_extension": ".py",
   "mimetype": "text/x-python",
   "name": "python",
   "nbconvert_exporter": "python",
   "pygments_lexer": "ipython3",
   "version": "3.11.4"
  },
  "toc": {
   "base_numbering": 1,
   "nav_menu": {},
   "number_sections": true,
   "sideBar": true,
   "skip_h1_title": false,
   "title_cell": "Table of Contents",
   "title_sidebar": "Contents",
   "toc_cell": false,
   "toc_position": {},
   "toc_section_display": true,
   "toc_window_display": false
  }
 },
 "nbformat": 4,
 "nbformat_minor": 5
}
